{
 "cells": [
  {
   "cell_type": "markdown",
   "metadata": {},
   "source": [
    "Clean the traffic detector data."
   ]
  },
  {
   "cell_type": "code",
   "execution_count": 1,
   "metadata": {},
   "outputs": [],
   "source": [
    "import pandas as pd\n",
    "\n",
    "# Assuming df is your DataFrame\n",
    "df = pd.read_csv('traffic_detectors.csv')  # replace 'your_file.csv' with your actual file\n",
    "\n",
    "# List of columns to drop\n",
    "columns_to_drop = ['Road_TC', 'Road_SC', 'Easting', 'Northing', 'Direction', 'Rotation']\n",
    "\n",
    "# Drop the unnecessary columns\n",
    "df = df.drop(columns=columns_to_drop)\n",
    "\n",
    "# Clean the data\n",
    "df = df.replace('Central & Western', 'Central and Western')\n",
    "\n",
    "# Output the cleaned DataFrame as a new CSV file\n",
    "df.to_csv('cleaned-traffic-detectors.csv', index=False)"
   ]
  }
 ],
 "metadata": {
  "kernelspec": {
   "display_name": "base",
   "language": "python",
   "name": "python3"
  },
  "language_info": {
   "codemirror_mode": {
    "name": "ipython",
    "version": 3
   },
   "file_extension": ".py",
   "mimetype": "text/x-python",
   "name": "python",
   "nbconvert_exporter": "python",
   "pygments_lexer": "ipython3",
   "version": "3.11.5"
  }
 },
 "nbformat": 4,
 "nbformat_minor": 2
}
