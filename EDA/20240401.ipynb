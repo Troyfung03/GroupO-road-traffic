{
  "metadata": {
    "kernelspec": {
      "name": "python",
      "display_name": "Python (Pyodide)",
      "language": "python"
    },
    "language_info": {
      "codemirror_mode": {
        "name": "python",
        "version": 3
      },
      "file_extension": ".py",
      "mimetype": "text/x-python",
      "name": "python",
      "nbconvert_exporter": "python",
      "pygments_lexer": "ipython3",
      "version": "3.8"
    }
  },
  "nbformat_minor": 4,
  "nbformat": 4,
  "cells": [
    {
      "cell_type": "code",
      "source": "import os\nimport requests\nimport pandas as pd\nfrom datetime import datetime, timedelta\nimport xml.etree.ElementTree as ET\n\n# Define the start and end dates\nstart_date = datetime.strptime('20240401', '%Y%m%d')\nend_date = datetime.strptime('20240402', '%Y%m%d')\n\n# Define the base URL\nbase_url = 'https://api.data.gov.hk/v1/historical-archive/get-file?url=https%3A%2F%2Fresource.data.one.gov.hk%2Ftd%2Ftraffic-detectors%2FrawSpeedVol-all.xml&time='\n\n# Loop over the date range\ncurrent_date = start_date\nwhile current_date <= end_date:\n    # Loop over each hour of the current day\n    for hour in range(0, 24):\n        # Save the DataFrame to a CSV file\n        filename = f\"traffic_{current_date.strftime('%Y%m%d')}_hour_{hour}.csv\"\n        if os.path.isfile(filename):\n            print(f\"File {filename} already exists. Skipping this hour.\")\n            continue\n\n        # Initialize a dictionary to store the total speed and count for each detector and lane\n        totals = {}\n\n        # Loop over each minute of the current hour\n        for minute in range(0, 60):\n            # Generate the timestamp for the current minute\n            timestamp = current_date.strftime('%Y%m%d') + '-' + f'{hour:02d}{minute:02d}'\n\n            # Fetch the data for the current timestamp\n            response = requests.get(base_url + timestamp)\n\n            # Check the status of the response\n            if response.status_code != 200:\n                print(f\"Failed to fetch data for {timestamp}, status code: {response.status_code}\")\n                continue\n\n            root = ET.fromstring(response.content)\n\n            # Extract the data and add it to the dictionary\n            for period in root.findall('.//periods/period'):\n                for detector in period.findall('.//detectors/detector'):\n                    detector_id = detector.find('detector_id').text\n\n                    for lane in detector.findall('.//lanes/lane'):\n                        lane_id_element = lane.find('lane_id')\n                        if lane_id_element is not None:\n                            lane_id = lane_id_element.text\n                        else:\n                            print(\"lane_id element not found\")\n                            continue\n\n                        speed_element = lane.find('speed')\n\n                        occupancy = int(lane.find('occupancy').text)\n                        volume = int(lane.find('volume').text)\n\n                        # Check if the 'speed' element is present and contains a valid float\n                        if speed_element is not None:\n                            try:\n                                speed = float(speed_element.text)\n                            except ValueError:\n                                print(f\"Invalid speed: {speed_element.text}\")\n                                continue\n\n                            # Add the speed to the total for the current detector and lane id\n                            if (detector_id, lane_id) not in totals:\n                                totals[(detector_id, lane_id)] = [speed, 1, occupancy, volume]\n                            else:\n                                totals[(detector_id, lane_id)][0] += speed\n                                totals[(detector_id, lane_id)][1] += 1\n                                totals[(detector_id, lane_id)][2] += occupancy\n                                totals[(detector_id, lane_id)][3] += volume\n                    \n        # Calculate the average speed for each detector and lane id and add it to the list\n        data = [{'detectorID': detector_id, 'laneType': lane_id, 'speed': total_speed / count, 'totalOccupancy': total_occupancy, 'totalVolume': total_volume}\n                for (detector_id, lane_id), (total_speed, count, total_occupancy, total_volume) in totals.items()]\n\n        # Convert the list into a DataFrame\n        df = pd.DataFrame(data)\n\n        # Save the DataFrame to a CSV file\n        df.to_csv(filename, index=False)\n        print(f\"File {filename} saved.\")\n\n        print(f\"end of the hour {hour}\")\n    # Move to the next day\n    current_date += timedelta(days=1)\n\nprint(f\"finished fetch\")",
      "metadata": {
        "trusted": true
      },
      "outputs": [],
      "execution_count": null
    },
    {
      "cell_type": "code",
      "source": "",
      "metadata": {
        "trusted": true
      },
      "outputs": [],
      "execution_count": null
    }
  ]
}