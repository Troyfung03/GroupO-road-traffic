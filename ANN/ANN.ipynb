{
 "cells": [
  {
   "cell_type": "markdown",
   "metadata": {},
   "source": [
    "April"
   ]
  },
  {
   "cell_type": "code",
   "execution_count": 1,
   "metadata": {},
   "outputs": [
    {
     "name": "stdout",
     "output_type": "stream",
     "text": [
      "File traffic_20231001.csv already exists. Skipping this day.\n",
      "File traffic_20231002.csv already exists. Skipping this day.\n",
      "File traffic_20231003.csv already exists. Skipping this day.\n",
      "File traffic_20231004.csv already exists. Skipping this day.\n",
      "File traffic_20231005.csv already exists. Skipping this day.\n",
      "File traffic_20231006.csv already exists. Skipping this day.\n",
      "File traffic_20231007.csv already exists. Skipping this day.\n",
      "File traffic_20231008.csv already exists. Skipping this day.\n",
      "File traffic_20231009.csv already exists. Skipping this day.\n",
      "File traffic_20231010.csv already exists. Skipping this day.\n",
      "File traffic_20231011.csv already exists. Skipping this day.\n",
      "File traffic_20231012.csv saved.\n",
      "end of the day 2023-10-12\n",
      "File traffic_20231013.csv saved.\n",
      "end of the day 2023-10-13\n",
      "File traffic_20231014.csv saved.\n",
      "end of the day 2023-10-14\n",
      "File traffic_20231015.csv saved.\n",
      "end of the day 2023-10-15\n",
      "finished fetch\n"
     ]
    }
   ],
   "source": [
    "import os\n",
    "import requests\n",
    "import pandas as pd\n",
    "from datetime import datetime, timedelta\n",
    "import xml.etree.ElementTree as ET\n",
    "\n",
    "# Define the start and end dates\n",
    "start_date = datetime.strptime('20231001', '%Y%m%d')\n",
    "end_date = datetime.strptime('20231015', '%Y%m%d')\n",
    "\n",
    "# Define the base URL\n",
    "base_url = 'https://api.data.gov.hk/v1/historical-archive/get-file?url=https%3A%2F%2Fresource.data.one.gov.hk%2Ftd%2Ftraffic-detectors%2FrawSpeedVol-all.xml&time='\n",
    "\n",
    "# Loop over the date range\n",
    "current_date = start_date\n",
    "while current_date <= end_date:\n",
    "    # Save the DataFrame to a CSV file\n",
    "    filename = f\"traffic_{current_date.strftime('%Y%m%d')}.csv\"\n",
    "    if os.path.isfile(filename):\n",
    "        print(f\"File {filename} already exists. Skipping this day.\")\n",
    "        current_date += timedelta(days=1)\n",
    "        continue\n",
    "\n",
    "    # Initialize a dictionary to store the total speed and count for each detector and lane\n",
    "    totals = {}\n",
    "\n",
    "    # Loop over each minute of the current day\n",
    "    for minute in range(0, 24*60):\n",
    "        # Generate the timestamp for the current minute\n",
    "        timestamp = current_date.strftime('%Y%m%d') + '-' + f'{minute//60:02d}{minute%60:02d}'\n",
    "\n",
    "        # Fetch the data for the current timestamp\n",
    "        response = requests.get(base_url + timestamp)\n",
    "\n",
    "        # Check the status of the response\n",
    "        if response.status_code != 200:\n",
    "            print(f\"Failed to fetch data for {timestamp}, status code: {response.status_code}\")\n",
    "            continue\n",
    "\n",
    "        root = ET.fromstring(response.content)\n",
    "\n",
    "        # Extract the data and add it to the dictionary\n",
    "        for period in root.findall('.//periods/period'):\n",
    "            for detector in period.findall('.//detectors/detector'):\n",
    "                detector_id = detector.find('detector_id').text\n",
    "\n",
    "                for lane in detector.findall('.//lanes/lane'):\n",
    "                    lane_id_element = lane.find('lane_id')\n",
    "                    if lane_id_element is not None:\n",
    "                        lane_id = lane_id_element.text\n",
    "                    else:\n",
    "                        print(\"lane_id element not found\")\n",
    "                        continue\n",
    "\n",
    "                    speed_element = lane.find('speed')\n",
    "\n",
    "                    # Check if the 'speed' element is present and contains a valid float\n",
    "                    if speed_element is not None:\n",
    "                        try:\n",
    "                            speed = float(speed_element.text)\n",
    "                        except ValueError:\n",
    "                            print(f\"Invalid speed: {speed_element.text}\")\n",
    "                            continue\n",
    "\n",
    "                        # Add the speed to the total for the current detector and lane id\n",
    "                        if (detector_id, lane_id) not in totals:\n",
    "                            totals[(detector_id, lane_id)] = [speed, 1]\n",
    "                        else:\n",
    "                            totals[(detector_id, lane_id)][0] += speed\n",
    "                            totals[(detector_id, lane_id)][1] += 1\n",
    "\n",
    "    # Calculate the average speed for each detector and lane id and add it to the list\n",
    "    data = [{'detectorID': detector_id, 'laneType': lane_id, 'speed': total_speed / count}\n",
    "            for (detector_id, lane_id), (total_speed, count) in totals.items()]\n",
    "\n",
    "    # Convert the list into a DataFrame\n",
    "    df = pd.DataFrame(data)\n",
    "\n",
    "    # Save the DataFrame to a CSV file\n",
    "    df.to_csv(filename, index=False)\n",
    "    print(f\"File {filename} saved.\")\n",
    "\n",
    "    print(f\"end of the day {current_date.strftime('%Y-%m-%d')}\")\n",
    "\n",
    "    # Move to the next day\n",
    "    current_date += timedelta(days=1)\n",
    "\n",
    "print(f\"finished fetch\")"
   ]
  },
  {
   "cell_type": "markdown",
   "metadata": {},
   "source": [
    "Do the Analysis,For the daily_HKO_RF_ALL.csv file, i want to only select the data from 2023-10-01 to 2023-10-15."
   ]
  },
  {
   "cell_type": "code",
   "execution_count": null,
   "metadata": {},
   "outputs": [],
   "source": []
  }
 ],
 "metadata": {
  "kernelspec": {
   "display_name": "base",
   "language": "python",
   "name": "python3"
  },
  "language_info": {
   "codemirror_mode": {
    "name": "ipython",
    "version": 3
   },
   "file_extension": ".py",
   "mimetype": "text/x-python",
   "name": "python",
   "nbconvert_exporter": "python",
   "pygments_lexer": "ipython3",
   "version": "3.11.5"
  }
 },
 "nbformat": 4,
 "nbformat_minor": 2
}
